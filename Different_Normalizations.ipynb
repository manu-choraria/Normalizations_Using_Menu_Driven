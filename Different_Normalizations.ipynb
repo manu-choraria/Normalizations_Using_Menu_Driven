{
  "nbformat": 4,
  "nbformat_minor": 0,
  "metadata": {
    "colab": {
      "name": "Different Normalizations.ipynb",
      "provenance": [],
      "authorship_tag": "ABX9TyM7ndLrehuiEOBXirgiAKMN",
      "include_colab_link": true
    },
    "kernelspec": {
      "name": "python3",
      "display_name": "Python 3"
    },
    "language_info": {
      "name": "python"
    }
  },
  "cells": [
    {
      "cell_type": "markdown",
      "metadata": {
        "id": "view-in-github",
        "colab_type": "text"
      },
      "source": [
        "<a href=\"https://colab.research.google.com/github/manu-choraria/Normalizations_Using_Menu_Driven/blob/main/Different_Normalizations.ipynb\" target=\"_parent\"><img src=\"https://colab.research.google.com/assets/colab-badge.svg\" alt=\"Open In Colab\"/></a>"
      ]
    },
    {
      "cell_type": "code",
      "execution_count": null,
      "metadata": {
        "id": "hYJIsFsUOSFK"
      },
      "outputs": [],
      "source": [
        "import numpy as nap\n",
        "import pandas as pd\n",
        "flag=0\n",
        "while(flag==0):\n",
        "  print(\"Menu\")\n",
        "  print(\"---------------\")\n",
        "  print(\"1.Min-Max Normalization\\n2.Z-Score normalization\\n3.Decimal scaling\\n4.Exit\")\n",
        "  input_number=int(input(\"Please Choose Your option:\"))\n",
        "  if(input_number==1):\n",
        "    min=int(input(\"Enter minimum value:\"))\n",
        "    max=int(input(\"Enter maximum value:\"))\n",
        "    new_min=int(input(\"Enter new minimum value:\"))\n",
        "    new_max=int(input(\"Enter new maximum value:\"))\n",
        "    v=int(input(\"Enter value to be normalized:\"))\n",
        "    new_v=(((v-min)/(max-min))*(new_max-new_min))+new_min\n",
        "    print(\"Value after normalization:\"+str(new_v))\n",
        "  elif(input_number==2):\n",
        "    mean=int(input(\"Enter mean of data:\"))\n",
        "    std=int(input(\"Enter standard deviation of data:\"))\n",
        "    v=int(input(\"Enter value to be normalized:\"))\n",
        "    new_v=((v-mean)/std)\n",
        "    print(\"Value after normalization:\"+str(new_v))\n",
        "  elif(input_number==3):\n",
        "    v=int(input(\"Enter value to be normalized:\"))\n",
        "    j=int(input(\"Enter value of j:\"))\n",
        "    new_v=v/(10**j)\n",
        "    print(\"Value after normalization:\"+str(new_v))\n",
        "  else:\n",
        "    flag=1"
      ]
    }
  ]
}